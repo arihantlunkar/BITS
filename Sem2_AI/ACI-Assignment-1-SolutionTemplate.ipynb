{
 "cells": [
  {
   "cell_type": "markdown",
   "metadata": {},
   "source": [
    "# Artificial and Computational Intelligence Assignment 1"
   ]
  },
  {
   "cell_type": "markdown",
   "metadata": {},
   "source": [
    "## Problem solving by Uninformed & Informed Search"
   ]
  },
  {
   "cell_type": "markdown",
   "metadata": {},
   "source": [
    "List only the BITS (Name) of active contributors in this assignment:\n",
    "1. Arihant Lunkar - 2022cs04016@wilp.bits-pilani.ac.in \n",
    "2. Arpitha R D - 2022CS04013@wilp.bits-pilani.ac.in \n",
    "3. Sumukh Koushik - 2022cs04038@wilp.bits-pilani.ac.in"
   ]
  },
  {
   "cell_type": "markdown",
   "metadata": {},
   "source": [
    "Things to follow\n",
    "1.\tUse appropriate data structures to represent the graph and the path using python libraries\n",
    "2.\tProvide proper documentation\n",
    "3.\tFind the path and print it"
   ]
  },
  {
   "cell_type": "markdown",
   "metadata": {},
   "source": [
    "Coding begins here"
   ]
  },
  {
   "cell_type": "markdown",
   "metadata": {},
   "source": [
    "### 1.\tDefine the environment in the following block"
   ]
  },
  {
   "cell_type": "markdown",
   "metadata": {},
   "source": [
    "List the PEAS decription of the problem here in this markdown block"
   ]
  },
  {
   "cell_type": "markdown",
   "metadata": {},
   "source": [
    "Design the agent as PSA Agent(Problem Solving Agent) \n",
    "Clear Initial data structures to define the graph and variable declarations is expected \n",
    "IMPORTATANT: Write distinct code block as below"
   ]
  },
  {
   "cell_type": "code",
   "execution_count": 1,
   "metadata": {},
   "outputs": [
    {
     "name": "stdin",
     "output_type": "stream",
     "text": [
      "Enter start node A\n",
      "Enter end node D\n"
     ]
    }
   ],
   "source": [
    "#Code Block : Set Initial State (Must handle dynamic inputs)\n",
    "\n",
    "startNode = input(\"Enter start node\")\n",
    "endNode = input(\"Enter end node\")\n"
   ]
  },
  {
   "cell_type": "code",
   "execution_count": 13,
   "metadata": {},
   "outputs": [],
   "source": [
    "#Code Block : Set the matrix for transition & cost (as relevant for the given problem)\n",
    "\n",
    "inputGraph = {\n",
    "    'A': [('B', 15), ('C', 10), ('D', 17), ('G', 5)],\n",
    "    'B': [('A', 15), ('D', 12)],\n",
    "    'C': [('A', 10), ('G', 7)],\n",
    "    'D': [('A', 17), ('B', 12), ('E', 2), ('F', 10), ('H', 4)],\n",
    "    'E': [('D', 2)],\n",
    "    'F': [('D', 10), ('H', 11)],\n",
    "    'G': [('A', 5), ('C', 7), ('H', 25)],\n",
    "    'H': [('D', 4), ('F', 11), ('G', 25)]\n",
    "}"
   ]
  },
  {
   "cell_type": "code",
   "execution_count": 3,
   "metadata": {},
   "outputs": [],
   "source": [
    "#Code Block : Write function to design the Transition Model/Successor function. Ideally this would be called while search algorithms are implemented\n",
    "\n",
    "# function to generate all possible paths\n",
    "def findAllPaths(graph, start, end, path =[]):\n",
    "    path = path + [start]\n",
    "    if start == end:\n",
    "        return [path]\n",
    "    paths = []\n",
    "    for node in graph[start]:\n",
    "        if node[0] not in path:\n",
    "            newpaths = findAllPaths(graph, node[0], end, path)\n",
    "            for newpath in newpaths:\n",
    "                paths.append(newpath)\n",
    "    return paths\n",
    "\n",
    "# function to calculate cost of a specfic edge. for eg., D->B = 12\n",
    "def findEdgeCost(graph, start, end):\n",
    "    cost  = 0\n",
    "    for node in graph[start]:\n",
    "        if node[0] == end:\n",
    "            cost += node[1]\n",
    "    return cost\n",
    "\n",
    "\n",
    "# function to calculate cost of a specific path. for eg., D->H->G->C->A->B = 61\n",
    "def calulateCostForPath(graph, path):\n",
    "    if len(path) <= 1:\n",
    "        return 0\n",
    "    start = path[0]\n",
    "    cost  = 0\n",
    "    for node in path[1:]:\n",
    "        cost += findEdgeCost(graph, start, node)\n",
    "        start = node\n",
    "    return cost\n",
    "\n",
    "# function to calculate heuristic value of each node\n",
    "def calculateHeuristicValues(graph, end):\n",
    "    heuristicDict = {}\n",
    "    for key in graph:\n",
    "        sum = 0.0\n",
    "        possiblePaths = findAllPaths(graph, key, end)\n",
    "        for path in possiblePaths:\n",
    "            sum += calulateCostForPath(graph, path)\n",
    "        avg = sum/len(possiblePaths)\n",
    "        heuristicDict[key] = avg\n",
    "    return heuristicDict\n",
    "\n",
    "# function to return neighbor and its distance from the passed node\n",
    "def get_neighbors(graph, v):\n",
    "    if v in graph:\n",
    "        return graph[v]\n",
    "    else:\n",
    "        return None"
   ]
  },
  {
   "cell_type": "code",
   "execution_count": 4,
   "metadata": {},
   "outputs": [],
   "source": [
    "#Code block : Write fucntion to handle goal test (Must handle dynamic inputs). Ideally this would be called while search algorithms are implemented"
   ]
  },
  {
   "cell_type": "markdown",
   "metadata": {},
   "source": [
    "### 2.\tDefinition of Algorithm 1 (Mention the Name of the algorithm here eg., UNINFORMED SEARCH - BREADTH FIRST SEARCH)"
   ]
  },
  {
   "cell_type": "code",
   "execution_count": 5,
   "metadata": {},
   "outputs": [],
   "source": [
    "#Code Block : Function for algorithm 1 implementation"
   ]
  },
  {
   "cell_type": "markdown",
   "metadata": {},
   "source": [
    "### 3.\tDefinition of Algorithm 2 (Mention the Name of the algorithm here eg., INFORMED SEARCH - A*)"
   ]
  },
  {
   "cell_type": "code",
   "execution_count": 6,
   "metadata": {},
   "outputs": [],
   "source": [
    "#Code Block : Function for algorithm 2 implementation\n",
    "\n",
    "def executeAStarAlgo(graph, start, end):\n",
    "    heuristicDict = calculateHeuristicValues(graph, end)\n",
    "    print('h(n) = ', heuristicDict)\n",
    "    openSet = set(start)\n",
    "    closedSet = set()\n",
    "    tmpGraphDict = {}\n",
    "    parents = {}\n",
    "    tmpGraphDict[start] = 0\n",
    "    parents[start] = start\n",
    "    while len(openSet) > 0:\n",
    "        currentNode = None\n",
    "        for v in openSet:\n",
    "            if None == currentNode or tmpGraphDict[v] + heuristicDict[v] < tmpGraphDict[currentNode] + heuristicDict[currentNode]:\n",
    "                currentNode = v\n",
    "        if currentNode == end or graph[currentNode] == None:\n",
    "            pass\n",
    "        else:\n",
    "            for (m, cost) in get_neighbors(graph, currentNode):\n",
    "                if m not in openSet and m not in closedSet:\n",
    "                    openSet.add(m)\n",
    "                    parents[m] = currentNode\n",
    "                    tmpGraphDict[m] = tmpGraphDict[currentNode] + cost\n",
    "                else:\n",
    "                    if tmpGraphDict[m] > tmpGraphDict[currentNode] + cost:\n",
    "                        tmpGraphDict[m] = tmpGraphDict[currentNode] + cost\n",
    "                        parents[m] = currentNode\n",
    "                        if m in closedSet:\n",
    "                            closedSet.remove(m)\n",
    "                            openSet.add(m)\n",
    "        if None == currentNode:\n",
    "            # Path does not exist\n",
    "            return None\n",
    "        \n",
    "        if end == currentNode:\n",
    "            path = []\n",
    "            while parents[currentNode] != currentNode:\n",
    "                path.append(currentNode)\n",
    "                currentNode = parents[currentNode]\n",
    "            path.append(start)\n",
    "            path.reverse()\n",
    "            # Path found\n",
    "            return path\n",
    "        openSet.remove(currentNode)\n",
    "        closedSet.add(currentNode)\n",
    "    # Path does not exist\n",
    "    return None"
   ]
  },
  {
   "cell_type": "markdown",
   "metadata": {},
   "source": [
    "### DYNAMIC INPUT"
   ]
  },
  {
   "cell_type": "markdown",
   "metadata": {},
   "source": [
    "IMPORTANT : Dynamic Input must be got in this section. Display the possible states to choose from:\n",
    "This is applicable for all the relevent problems as mentioned in the question. "
   ]
  },
  {
   "cell_type": "code",
   "execution_count": 7,
   "metadata": {},
   "outputs": [],
   "source": [
    "#Code Block : Function & call to get inputs (start/end state)"
   ]
  },
  {
   "cell_type": "markdown",
   "metadata": {},
   "source": [
    "### 4.\tCalling the search algorithms\n",
    "(For bidirectional search in below sections first part can be used as per Hint provided. Under second section other combinations as per Hint or your choice of 2 algorithms can be called .As an analyst suggest suitable approximation in the comparitive analysis section)"
   ]
  },
  {
   "cell_type": "code",
   "execution_count": 8,
   "metadata": {},
   "outputs": [],
   "source": [
    "#Invoke algorithm 1 (Should Print the solution, path, cost etc., (As mentioned in the problem))"
   ]
  },
  {
   "cell_type": "code",
   "execution_count": 9,
   "metadata": {},
   "outputs": [
    {
     "name": "stdout",
     "output_type": "stream",
     "text": [
      "h(n) =  {'A': 39.666666666666664, 'B': 49.666666666666664, 'C': 40.75, 'D': 0.0, 'E': 2.0, 'F': 50.166666666666664, 'G': 34.5, 'H': 42.833333333333336}\n",
      "Start Node =  A\n",
      "End Node =  D\n",
      "Path using A* =  ['A', 'D']\n",
      "Path cost using A* =  17\n"
     ]
    }
   ],
   "source": [
    "#Invoke algorithm 2 (Should Print the solution, path, cost etc., (As mentioned in the problem))\n",
    "pathUsingAStarAlgo = executeAStarAlgo(inputGraph, startNode, endNode)\n",
    "print(\"Start Node = \", startNode)\n",
    "print(\"End Node = \", endNode)\n",
    "print(\"Path using A* = \", pathUsingAStarAlgo)\n",
    "print(\"Path cost using A* = \", calulateCostForPath(inputGraph, pathUsingAStarAlgo))"
   ]
  },
  {
   "cell_type": "markdown",
   "metadata": {},
   "source": [
    "### 5.\tCalculating the Minimum Spanning Tree\n",
    "(the minimum connections that keeps the whole network up and running)"
   ]
  },
  {
   "cell_type": "code",
   "execution_count": 14,
   "metadata": {},
   "outputs": [
    {
     "name": "stdout",
     "output_type": "stream",
     "text": [
      "Visited nodes: {'A'}\n",
      "Current MST: []\n",
      "Paths Available: [(5, 'A', 'G'), (10, 'A', 'C'), (17, 'A', 'D'), (15, 'A', 'B')]\n",
      "-------------------------\n",
      "Visited nodes: {'G', 'A'}\n",
      "Current MST: [('A', 'G', 5)]\n",
      "Paths Available: [(7, 'G', 'C'), (10, 'A', 'C'), (17, 'A', 'D'), (15, 'A', 'B'), (25, 'G', 'H')]\n",
      "-------------------------\n",
      "Visited nodes: {'C', 'G', 'A'}\n",
      "Current MST: [('A', 'G', 5), ('G', 'C', 7)]\n",
      "Paths Available: [(10, 'A', 'C'), (15, 'A', 'B'), (17, 'A', 'D'), (25, 'G', 'H')]\n",
      "-------------------------\n",
      "Visited nodes: {'B', 'C', 'G', 'A'}\n",
      "Current MST: [('A', 'G', 5), ('G', 'C', 7), ('A', 'B', 15)]\n",
      "Paths Available: [(12, 'B', 'D'), (25, 'G', 'H'), (17, 'A', 'D')]\n",
      "-------------------------\n",
      "Visited nodes: {'B', 'C', 'A', 'G', 'D'}\n",
      "Current MST: [('A', 'G', 5), ('G', 'C', 7), ('A', 'B', 15), ('B', 'D', 12)]\n",
      "Paths Available: [(2, 'D', 'E'), (4, 'D', 'H'), (17, 'A', 'D'), (25, 'G', 'H'), (10, 'D', 'F')]\n",
      "-------------------------\n",
      "Visited nodes: {'B', 'C', 'A', 'E', 'G', 'D'}\n",
      "Current MST: [('A', 'G', 5), ('G', 'C', 7), ('A', 'B', 15), ('B', 'D', 12), ('D', 'E', 2)]\n",
      "Paths Available: [(4, 'D', 'H'), (10, 'D', 'F'), (17, 'A', 'D'), (25, 'G', 'H')]\n",
      "-------------------------\n",
      "Visited nodes: {'B', 'C', 'H', 'A', 'E', 'G', 'D'}\n",
      "Current MST: [('A', 'G', 5), ('G', 'C', 7), ('A', 'B', 15), ('B', 'D', 12), ('D', 'E', 2), ('D', 'H', 4)]\n",
      "Paths Available: [(10, 'D', 'F'), (11, 'H', 'F'), (17, 'A', 'D'), (25, 'G', 'H')]\n",
      "-------------------------\n",
      "Visited nodes: {'B', 'C', 'H', 'A', 'E', 'G', 'D', 'F'}\n",
      "Current MST: [('A', 'G', 5), ('G', 'C', 7), ('A', 'B', 15), ('B', 'D', 12), ('D', 'E', 2), ('D', 'H', 4), ('D', 'F', 10)]\n",
      "Paths Available: [(11, 'H', 'F'), (25, 'G', 'H'), (17, 'A', 'D')]\n",
      "-------------------------\n",
      "Final MST: [('A', 'G', 5), ('G', 'C', 7), ('A', 'B', 15), ('B', 'D', 12), ('D', 'E', 2), ('D', 'H', 4), ('D', 'F', 10)]\n"
     ]
    }
   ],
   "source": [
    "#Using prims to calculate the mst\n",
    "import heapq\n",
    "\n",
    "def prim_mst(graph):\n",
    "    mst = []\n",
    "    visited = set()\n",
    "    start_node = list(graph.keys())[0]  # Start with an arbitrary node\n",
    "\n",
    "    # Priority queue to store paths / edges with their weights\n",
    "    pq = [(0, None, start_node)]  # (weight, previous_node, current_node)\n",
    "    heapq.heapify(pq)\n",
    "\n",
    "    while pq:\n",
    "        weight, prev_node, curr_node = heapq.heappop(pq)\n",
    "\n",
    "        if curr_node not in visited:\n",
    "            visited.add(curr_node)\n",
    "            if prev_node:\n",
    "                mst.append((prev_node, curr_node, weight))\n",
    "\n",
    "            print(\"Visited nodes:\", visited)\n",
    "            print(\"Current MST:\", mst)\n",
    "\n",
    "            for neighbor, edge_weight in graph[curr_node]:\n",
    "                if neighbor not in visited:\n",
    "                    heapq.heappush(pq, (edge_weight, curr_node, neighbor))\n",
    "\n",
    "            print(\"Paths Available:\", pq)\n",
    "            print(\"-------------------------\")\n",
    "\n",
    "    return mst\n",
    "\n",
    "mst = prim_mst(inputGraph)\n",
    "print(\"Final MST:\", mst)"
   ]
  },
  {
   "cell_type": "markdown",
   "metadata": {},
   "source": [
    "### 5.\tComparitive Analysis"
   ]
  },
  {
   "cell_type": "code",
   "execution_count": 11,
   "metadata": {},
   "outputs": [],
   "source": [
    "#Code Block : Print the Time & Space complexity of algorithm 1 "
   ]
  },
  {
   "cell_type": "code",
   "execution_count": 12,
   "metadata": {},
   "outputs": [],
   "source": [
    "#Code Block : Print the Time & Space complexity of algorithm 2"
   ]
  },
  {
   "cell_type": "markdown",
   "metadata": {},
   "source": [
    "### 6.\tProvide your comparitive analysis or findings in no more than 3 lines in below section"
   ]
  },
  {
   "cell_type": "markdown",
   "metadata": {},
   "source": [
    "Comparison : _______________________________________________\n",
    "\n",
    "________________________________________________________\n",
    "\n",
    "_________________________________________________________"
   ]
  }
 ],
 "metadata": {
  "kernelspec": {
   "display_name": "Python 3 (ipykernel)",
   "language": "python",
   "name": "python3"
  },
  "language_info": {
   "codemirror_mode": {
    "name": "ipython",
    "version": 3
   },
   "file_extension": ".py",
   "mimetype": "text/x-python",
   "name": "python",
   "nbconvert_exporter": "python",
   "pygments_lexer": "ipython3",
   "version": "3.9.13"
  }
 },
 "nbformat": 4,
 "nbformat_minor": 4
}
